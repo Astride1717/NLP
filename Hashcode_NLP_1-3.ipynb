{
 "cells": [
  {
   "cell_type": "code",
   "execution_count": null,
   "metadata": {},
   "outputs": [],
   "source": [
    "#텍스트 다중 분류 -> 각 게시글의 질문이 어떤 프로그래밍 언어에 관한 것인지 예측하는 모델 만들기 \n",
    "#질문 내용(한국어)과 코드(영어)로 이루어진 다중언어 텍스트를 전처리 후 연속적인 값으로 변환하여 모델링.\n",
    "\n",
    "#코드 텍스트를 보존하기 위해 다른 전처리는 하지 않고 Mecab으로 형태소 분리, 최소한의 한국어 불용어만 제거\n",
    "#TF IDF 행렬로 벡터화 해 모델 인풋으로 사용\n",
    "#각 프로그래밍 언어에서 주로 사용되는 용어와 코드를 학습하여 언어를 분류할 수 있다고 가정 \n",
    "#데이터의 양이 딥러닝을 적용하기엔 충분치 않다고 판단하여 확률기반 모델인 나이브베이즈 다중분류모델 사용"
   ]
  },
  {
   "cell_type": "code",
   "execution_count": 3,
   "metadata": {
    "scrolled": true
   },
   "outputs": [],
   "source": [
    "import pandas as pd\n",
    "import numpy as np"
   ]
  },
  {
   "cell_type": "code",
   "execution_count": 10,
   "metadata": {
    "scrolled": true
   },
   "outputs": [],
   "source": [
    "train = pd.read_csv(r'../프로그래머스/hashcode_classification2020_train_preprocessed.csv', encoding = 'utf-8')"
   ]
  },
  {
   "cell_type": "code",
   "execution_count": 11,
   "metadata": {
    "scrolled": true
   },
   "outputs": [],
   "source": [
    "del train[\"Unnamed: 0\"]"
   ]
  },
  {
   "cell_type": "code",
   "execution_count": 12,
   "metadata": {},
   "outputs": [
    {
     "data": {
      "text/html": [
       "<div>\n",
       "<style scoped>\n",
       "    .dataframe tbody tr th:only-of-type {\n",
       "        vertical-align: middle;\n",
       "    }\n",
       "\n",
       "    .dataframe tbody tr th {\n",
       "        vertical-align: top;\n",
       "    }\n",
       "\n",
       "    .dataframe thead th {\n",
       "        text-align: right;\n",
       "    }\n",
       "</style>\n",
       "<table border=\"1\" class=\"dataframe\">\n",
       "  <thead>\n",
       "    <tr style=\"text-align: right;\">\n",
       "      <th></th>\n",
       "      <th>title</th>\n",
       "      <th>content</th>\n",
       "      <th>label</th>\n",
       "      <th>preprocessed</th>\n",
       "      <th>detokenized</th>\n",
       "    </tr>\n",
       "  </thead>\n",
       "  <tbody>\n",
       "    <tr>\n",
       "      <th>230</th>\n",
       "      <td>무조건 중간에 오류 나는 코드</td>\n",
       "      <td>$$$프로세스에서 발생한 에러랑 상호 작용하는 파이썬 프로그램을 만들고 있는데요\\n...</td>\n",
       "      <td>2</td>\n",
       "      <td>['무조건', '중간', '오류', '코드', '프로세스', '발생', '에러', ...</td>\n",
       "      <td>무조건 중간 오류 코드 프로세스 발생 에러 랑 상호 작용 파이썬 프로그램 제 만든 ...</td>\n",
       "    </tr>\n",
       "    <tr>\n",
       "      <th>1078</th>\n",
       "      <td>확장 recyclerview 방법</td>\n",
       "      <td>recyclerview 에서 포지션 하나하나를 클릭할 때마다 포지션 밑에 레이아웃이...</td>\n",
       "      <td>3</td>\n",
       "      <td>['확장', 'recyclerview', '방법', 'recyclerview', '...</td>\n",
       "      <td>확장 recyclerview 방법 recyclerview 포지션 하나하나 클릭 마다...</td>\n",
       "    </tr>\n",
       "    <tr>\n",
       "      <th>1596</th>\n",
       "      <td>안녕하세요. 디자이넌데 자바 알못이라 질문 드립니다.</td>\n",
       "      <td>하기의 링크에서 $$$/CSS를 따와 슬라이드 배너를 적용하였습니다. \\n\\nhtt...</td>\n",
       "      <td>4</td>\n",
       "      <td>['안녕', '.', '디', '자', '넌데', '자바', '못', '라', '질...</td>\n",
       "      <td>안녕 . 디 자 넌데 자바 못 라 질문 . 링크 $$$/ CSS 따와 슬라이드 배 ...</td>\n",
       "    </tr>\n",
       "    <tr>\n",
       "      <th>2541</th>\n",
       "      <td>HTML, CSS, $$$ 소스 암호화 관련해서 질문드립니다.</td>\n",
       "      <td>네이버 웹 문서의 경우 크롬에서 소스 보기를 클릭하면 다음과 같이 소스 계층이 보이...</td>\n",
       "      <td>4</td>\n",
       "      <td>['HTML', ',', 'CSS', ',', '소스', '암호', '화', '관련...</td>\n",
       "      <td>HTML , CSS , 소스 암호 화 관련 해서 질문 . 네이버 웹 문서 크롬 소스...</td>\n",
       "    </tr>\n",
       "    <tr>\n",
       "      <th>736</th>\n",
       "      <td>$$$코딩</td>\n",
       "      <td>안녕하세요,$$$ 코딩이필요해서 그런데, 소스코딩해봤는데 수정 좀해주세요 ㅜㅡㅜ\\n...</td>\n",
       "      <td>3</td>\n",
       "      <td>['코딩', '안녕', ',', '코딩', '필요', '해서', '그런데', ','...</td>\n",
       "      <td>코딩 안녕 , 코딩 필요 해서 그런데 , 소스 코딩 봤 수정 ㅜㅡㅜ 속성 클래스 주...</td>\n",
       "    </tr>\n",
       "    <tr>\n",
       "      <th>2253</th>\n",
       "      <td>$$$에서 Integer클래스는 어떻게 비교하죠?</td>\n",
       "      <td>\\n음.. 예를 들어서\\n```\\nInteger a = 4;\\nif (a &lt; 5)\\...</td>\n",
       "      <td>3</td>\n",
       "      <td>['Integer', '클래스', '어떻게', '비교', '죠', '?', '음',...</td>\n",
       "      <td>Integer 클래스 어떻게 비교 죠 ? 음 . . 예 어서 ``` Integer ...</td>\n",
       "    </tr>\n",
       "    <tr>\n",
       "      <th>884</th>\n",
       "      <td>$$$ 스택 문자열 거꾸로 출력 질문합니다</td>\n",
       "      <td>```\\n#include  &lt; stdio.h&gt;\\n#include  &lt; stdlib....</td>\n",
       "      <td>1</td>\n",
       "      <td>['스택', '문자열', '거꾸로', '출력', '질문', '```', '#', '...</td>\n",
       "      <td>스택 문자열 거꾸로 출력 질문 ``` # include &lt; stdio . h &gt; #...</td>\n",
       "    </tr>\n",
       "    <tr>\n",
       "      <th>2479</th>\n",
       "      <td>$$$ 앱에서 데이터를 받고 저장하기</td>\n",
       "      <td>```\\nfrom $$$.shortcuts import render\\n\\nfrom ...</td>\n",
       "      <td>5</td>\n",
       "      <td>['앱', '데이터', '저장', '```', 'from', '$$$.', 'sho...</td>\n",
       "      <td>앱 데이터 저장 ``` from $$$. shortcuts import render...</td>\n",
       "    </tr>\n",
       "    <tr>\n",
       "      <th>1103</th>\n",
       "      <td>VSC: $$$ 개발 할떄</td>\n",
       "      <td>$$$를 이제 막 배워보려고 합니다. 기존에 IDE로 계속 VS코드를 쓰고있어 이클...</td>\n",
       "      <td>3</td>\n",
       "      <td>['VSC', ':', '개발', '떄', '이제', '막', '배워', '려고',...</td>\n",
       "      <td>VSC : 개발 떄 이제 막 배워 려고 . 기존 IDE 계속 VS 코드 쓰 이클립스...</td>\n",
       "    </tr>\n",
       "    <tr>\n",
       "      <th>1821</th>\n",
       "      <td>$$$ numpy 질문좀여</td>\n",
       "      <td>```\\n#_*_coding:utf-8 _*_\\n\\nimport numpy as n...</td>\n",
       "      <td>5</td>\n",
       "      <td>['numpy', '질문', '여', '```', '#_*_', 'coding', ...</td>\n",
       "      <td>numpy 질문 여 ``` #_*_ coding : utf - 8 _*_ impor...</td>\n",
       "    </tr>\n",
       "  </tbody>\n",
       "</table>\n",
       "</div>"
      ],
      "text/plain": [
       "                                   title  \\\n",
       "230                     무조건 중간에 오류 나는 코드   \n",
       "1078                  확장 recyclerview 방법   \n",
       "1596       안녕하세요. 디자이넌데 자바 알못이라 질문 드립니다.   \n",
       "2541  HTML, CSS, $$$ 소스 암호화 관련해서 질문드립니다.   \n",
       "736                                $$$코딩   \n",
       "2253         $$$에서 Integer클래스는 어떻게 비교하죠?   \n",
       "884              $$$ 스택 문자열 거꾸로 출력 질문합니다   \n",
       "2479                $$$ 앱에서 데이터를 받고 저장하기   \n",
       "1103                      VSC: $$$ 개발 할떄   \n",
       "1821                      $$$ numpy 질문좀여   \n",
       "\n",
       "                                                content  label  \\\n",
       "230   $$$프로세스에서 발생한 에러랑 상호 작용하는 파이썬 프로그램을 만들고 있는데요\\n...      2   \n",
       "1078  recyclerview 에서 포지션 하나하나를 클릭할 때마다 포지션 밑에 레이아웃이...      3   \n",
       "1596  하기의 링크에서 $$$/CSS를 따와 슬라이드 배너를 적용하였습니다. \\n\\nhtt...      4   \n",
       "2541  네이버 웹 문서의 경우 크롬에서 소스 보기를 클릭하면 다음과 같이 소스 계층이 보이...      4   \n",
       "736   안녕하세요,$$$ 코딩이필요해서 그런데, 소스코딩해봤는데 수정 좀해주세요 ㅜㅡㅜ\\n...      3   \n",
       "2253  \\n음.. 예를 들어서\\n```\\nInteger a = 4;\\nif (a < 5)\\...      3   \n",
       "884   ```\\n#include  < stdio.h>\\n#include  < stdlib....      1   \n",
       "2479  ```\\nfrom $$$.shortcuts import render\\n\\nfrom ...      5   \n",
       "1103  $$$를 이제 막 배워보려고 합니다. 기존에 IDE로 계속 VS코드를 쓰고있어 이클...      3   \n",
       "1821  ```\\n#_*_coding:utf-8 _*_\\n\\nimport numpy as n...      5   \n",
       "\n",
       "                                           preprocessed  \\\n",
       "230   ['무조건', '중간', '오류', '코드', '프로세스', '발생', '에러', ...   \n",
       "1078  ['확장', 'recyclerview', '방법', 'recyclerview', '...   \n",
       "1596  ['안녕', '.', '디', '자', '넌데', '자바', '못', '라', '질...   \n",
       "2541  ['HTML', ',', 'CSS', ',', '소스', '암호', '화', '관련...   \n",
       "736   ['코딩', '안녕', ',', '코딩', '필요', '해서', '그런데', ','...   \n",
       "2253  ['Integer', '클래스', '어떻게', '비교', '죠', '?', '음',...   \n",
       "884   ['스택', '문자열', '거꾸로', '출력', '질문', '```', '#', '...   \n",
       "2479  ['앱', '데이터', '저장', '```', 'from', '$$$.', 'sho...   \n",
       "1103  ['VSC', ':', '개발', '떄', '이제', '막', '배워', '려고',...   \n",
       "1821  ['numpy', '질문', '여', '```', '#_*_', 'coding', ...   \n",
       "\n",
       "                                            detokenized  \n",
       "230   무조건 중간 오류 코드 프로세스 발생 에러 랑 상호 작용 파이썬 프로그램 제 만든 ...  \n",
       "1078  확장 recyclerview 방법 recyclerview 포지션 하나하나 클릭 마다...  \n",
       "1596  안녕 . 디 자 넌데 자바 못 라 질문 . 링크 $$$/ CSS 따와 슬라이드 배 ...  \n",
       "2541  HTML , CSS , 소스 암호 화 관련 해서 질문 . 네이버 웹 문서 크롬 소스...  \n",
       "736   코딩 안녕 , 코딩 필요 해서 그런데 , 소스 코딩 봤 수정 ㅜㅡㅜ 속성 클래스 주...  \n",
       "2253  Integer 클래스 어떻게 비교 죠 ? 음 . . 예 어서 ``` Integer ...  \n",
       "884   스택 문자열 거꾸로 출력 질문 ``` # include < stdio . h > #...  \n",
       "2479  앱 데이터 저장 ``` from $$$. shortcuts import render...  \n",
       "1103  VSC : 개발 떄 이제 막 배워 려고 . 기존 IDE 계속 VS 코드 쓰 이클립스...  \n",
       "1821  numpy 질문 여 ``` #_*_ coding : utf - 8 _*_ impor...  "
      ]
     },
     "execution_count": 12,
     "metadata": {},
     "output_type": "execute_result"
    }
   ],
   "source": [
    "train.sample(10)"
   ]
  },
  {
   "cell_type": "code",
   "execution_count": 13,
   "metadata": {
    "scrolled": true
   },
   "outputs": [
    {
     "data": {
      "text/plain": [
       "title           0\n",
       "content         0\n",
       "label           0\n",
       "preprocessed    0\n",
       "detokenized     0\n",
       "dtype: int64"
      ]
     },
     "execution_count": 13,
     "metadata": {},
     "output_type": "execute_result"
    }
   ],
   "source": [
    "train.isnull().sum()"
   ]
  },
  {
   "cell_type": "code",
   "execution_count": 14,
   "metadata": {
    "scrolled": true
   },
   "outputs": [
    {
     "name": "stderr",
     "output_type": "stream",
     "text": [
      "C:\\Users\\NY\\Anaconda3\\lib\\site-packages\\ipykernel_launcher.py:1: UserWarning: Pandas doesn't allow columns to be created via a new attribute name - see https://pandas.pydata.org/pandas-docs/stable/indexing.html#attribute-access\n",
      "  \"\"\"Entry point for launching an IPython kernel.\n"
     ]
    }
   ],
   "source": [
    "train.target = train['label']"
   ]
  },
  {
   "cell_type": "code",
   "execution_count": 15,
   "metadata": {},
   "outputs": [
    {
     "name": "stderr",
     "output_type": "stream",
     "text": [
      "C:\\Users\\NY\\Anaconda3\\lib\\site-packages\\ipykernel_launcher.py:1: UserWarning: Pandas doesn't allow columns to be created via a new attribute name - see https://pandas.pydata.org/pandas-docs/stable/indexing.html#attribute-access\n",
      "  \"\"\"Entry point for launching an IPython kernel.\n"
     ]
    }
   ],
   "source": [
    "train.data = train[\"detokenized\"]"
   ]
  },
  {
   "cell_type": "code",
   "execution_count": 16,
   "metadata": {},
   "outputs": [
    {
     "data": {
      "text/plain": [
       "0       wait ( ) sleep ( ) 차이점 뭔 가요 발생 문제 및 실행 환경 wait...\n",
       "1       초보 외부 클래스 멤버 변수 사용 질문 . ㅠㅠ 1 . 헤더 , 사용 멤버 변수 담...\n",
       "2       ORM : Sequelize : 다대다 관계 쿼리 안녕 . 어떻게 다대다 관계 쿼리...\n",
       "3       숫자 NaN 인지 검사 려면 어떻게 죠 ? ``` parseFloat ( ' geo...\n",
       "4       2 . 7 중국어 , 특수 문자 인코딩 방법 뭔가요 ? ``` >>> dict [ ...\n",
       "5       탐색기 시작 위치 변경 . 코딩 인데 def explorer ( ) : subpro...\n",
       "6       웹 개발 . 실무 lombok 사용 ? 웹 개발 . 회사 사수 코트 수정 라 . ....\n",
       "7       express 특정 단추 눌렀 , mysql 데이터 수정 , 수정 된 페이지 로드 ...\n",
       "8       텍스트 파일 읽 와서 내림차순 혹은 오름차순 정리 파일 출력 9 김철수 72 10 ...\n",
       "9       클래스 변수 대해 궁금 ``` Class Dog : name = str ( ) tr...\n",
       "10      순서 정리 오류 질문 ``` / / # include < stdio . h > # ...\n",
       "11      함수 변수 값 밖 빼 서 , 파일 import 려 . 안녕 . 간단히 설명 자면 ,...\n",
       "12      배열 이름 이랑 배열 주소 건 죠 ? 발생 문제 및 실행 환경 배열 이름 이랑 배열...\n",
       "13      배우 학생 . 현재 제 풀 문제 . [ https : / / noj . am / 4...\n",
       "14      null 예외 처리 깔끔 법 발생 문제 및 실행 환경 보통 코드 짜 다 면 if (...\n",
       "15      레이블 이나 텍스트 박스 DB select 값 출력 려면 어떻게 ? ``` @ Ov...\n",
       "16      배열 이름 질문 . 안녕 . 공부 학생 . 배열 이름 관해서 궁금증 생겼 . int...\n",
       "17      반 복문 작성 ``` $(\". list a : nth - child ( 1 ) \")...\n",
       "18      벡터 레퍼런스 저장 려면 ? ` std : : vector < int &> hell...\n",
       "19      이분 검색 - low , high 값 파라미터 아 재귀 구현 # include < ...\n",
       "20      ( $$$) 사용 해서 웹 사이트 려고 . 안녕 . 웹 사이트 ( 웹 서비스 ) 위...\n",
       "21      ArrayList Vector 차이 뭔가요 ? ArrayList Vector 자료 ...\n",
       "22      표현 다익스트라 알고리즘 코드 예시 이해 서 질문 . ! [ 이미지 ] [ 1 ] ...\n",
       "23      string 비교 어떻게 ? string 비교 어떻게 ? 까지 string 비교 =...\n",
       "24      mongodb subDocument 대한 find 쿼리 어떻게 ? ``` var s...\n",
       "25      딕셔너리 값 문장 려면 어떻게 ? ``` dic = {' H ': 1 , ' e '...\n",
       "26      컴파일 관련 드려서 죄송 . http : / / www . 2 s . com / C...\n",
       "27      간단 Array 질문 ! 밑 코드 실행 이유 뭔가요 ? 원래 i 할당 된 값 어서 ...\n",
       "28      [ 크롤링 ] 결과 값 엑 셀 파일 누적 해서 저장 , 어떻게 할까요 ? ? 웹 페...\n",
       "29      윈도우 프로그램 개발 , 값 전달 - Window program Making - =...\n",
       "                              ...                        \n",
       "2562    프론트 앤드 , 백 앤드 개발 시 프레임워크 선택 . .. 쉽 . node . js...\n",
       "2563    파일 저장 된 텍스트 데이터 어떻게 문자열 읽 ? 아래 소스 코드 사용 왔었 고요 ...\n",
       "2564    이거 형 변환 될까요 ? int c , f ; f =( int ) ( ( 9 . 0...\n",
       "2565             구 조체 구 조체 typedef 사용 일반 인가요 ? 아니면 사용 ? ?\n",
       "2566    postgresql postgis , 쓸 인터 널 에러 발생 . 라이브러리 불러올 ...\n",
       "2567    [ node . js ] ckeditor 이미지 올리 안녕 . 제 node . js...\n",
       "2568    패키지 컴파일 관련 질문 . https : / / github . com / nea...\n",
       "2569    문자열 마지막 문자 지우 어떻게 ? ``` public String method (...\n",
       "2570    구조 체로 연산 코딩 인데 뭐 틀렸 ? ? ``` # include < stdio ...\n",
       "2571    스크립트 파일 불러오 방법 알려 ㅜㅜ ``` import pymel . core a...\n",
       "2572                          어떻게 출력 죠 ? 제 프로그램 어떻게 을까요 ?\n",
       "2573    배열 원소 문자열 저장 방법 궁금 2 차원 배열 원소 스트링 저장 . 제 코드 출력...\n",
       "2574    호환 Linux & windows 구동 파일 핸들링 안녕 . 리눅스 및 윈도우 모두...\n",
       "2575    안드로이드 thread , multithreading , process 관계 및 정...\n",
       "2576    Arraylist 값 겠 Controller ``` / / @ RequestMapp...\n",
       "2577    실 행창 꺼도 계속 실행 법 ? 현재 사용 . 보통 실행 시 창 끄 면 코드 실행 ...\n",
       "2578    VM 몇 스레드 지원 ? VM 몇 스레드 지원 ? 제 조사 운영 체제 따라 ? 요인...\n",
       "2579    슬라이드 컨텐츠 높이 달라서 여백 생기 문제 ! ! 할까요 ? ? ㅠㅠ 이렇게 ! ...\n",
       "2580    for 문 질문 1 ``` hap = 0 for a in range ( 1 , 11...\n",
       "2581    single server - multi client socket 통신 모든 클라이언...\n",
       "2582    리스트 특정 아이템 인덱스 찾 `[\" hello \",\"$$$\",\" world \",\"...\n",
       "2583    윈도우 빌더 gui 랑 sms 보내 소스 어떻게 합쳐야 할지 겠 ㅠㅠ package...\n",
       "2584    위치 서비스 기능 추가 제 앱 개발 고자 . 거기 요즘 많이 쓰이 위치 서비스 기능...\n",
       "2585    fx 게시판 리스트 질문 . ! [ 이미지 ] [ 1 ] 이번 프로젝트 프로젝트 진...\n",
       "2586    최단 길 길 찾 알고리즘 대해 질문 올립니다 . 오랜 시간 붙잡 어도 전혀 진전 여...\n",
       "2587    슬라이드 질문 . 안녕 . 다름 라 버튼 클릭 면 오른쪽 왼쪽 들어갔 다 사이드 바...\n",
       "2588    메인 클래스 프로그램 전체 메인 클래스 메인 메뉴 선택 면 세 각각 기능 프로그램 ...\n",
       "2589    sparse matrix 질문 ! * sparse matrix : 0 아닌 값 가진...\n",
       "2590    models 폴더 depth 일반 migration 법 안녕하 + javascrip...\n",
       "2591    허프만 코드 사용 파일 압축 질문 . 허프만 코딩 사용 해서 파일 압축 과제 도중 ...\n",
       "Name: detokenized, Length: 2592, dtype: object"
      ]
     },
     "execution_count": 16,
     "metadata": {},
     "output_type": "execute_result"
    }
   ],
   "source": [
    "train.data"
   ]
  },
  {
   "cell_type": "code",
   "execution_count": 61,
   "metadata": {
    "scrolled": true
   },
   "outputs": [
    {
     "data": {
      "text/plain": [
       "0       wait ( ) sleep ( ) 차이점 뭔 가요 발생 문제 및 실행 환경 wait...\n",
       "1       초보 외부 클래스 멤버 변수 사용 질문 . ㅠㅠ 1 . 헤더 , 사용 멤버 변수 담...\n",
       "2       ORM : Sequelize : 다대다 관계 쿼리 안녕 . 어떻게 다대다 관계 쿼리...\n",
       "3       숫자 NaN 인지 검사 려면 어떻게 죠 ? ``` parseFloat ( ' geo...\n",
       "4       2 . 7 중국어 , 특수 문자 인코딩 방법 뭔가요 ? ``` >>> dict [ ...\n",
       "5       탐색기 시작 위치 변경 . 코딩 인데 def explorer ( ) : subpro...\n",
       "6       웹 개발 . 실무 lombok 사용 ? 웹 개발 . 회사 사수 코트 수정 라 . ....\n",
       "7       express 특정 단추 눌렀 , mysql 데이터 수정 , 수정 된 페이지 로드 ...\n",
       "8       텍스트 파일 읽 와서 내림차순 혹은 오름차순 정리 파일 출력 9 김철수 72 10 ...\n",
       "9       클래스 변수 대해 궁금 ``` Class Dog : name = str ( ) tr...\n",
       "10      순서 정리 오류 질문 ``` / / # include < stdio . h > # ...\n",
       "11      함수 변수 값 밖 빼 서 , 파일 import 려 . 안녕 . 간단히 설명 자면 ,...\n",
       "12      배열 이름 이랑 배열 주소 건 죠 ? 발생 문제 및 실행 환경 배열 이름 이랑 배열...\n",
       "13      배우 학생 . 현재 제 풀 문제 . [ https : / / noj . am / 4...\n",
       "14      null 예외 처리 깔끔 법 발생 문제 및 실행 환경 보통 코드 짜 다 면 if (...\n",
       "15      레이블 이나 텍스트 박스 DB select 값 출력 려면 어떻게 ? ``` @ Ov...\n",
       "16      배열 이름 질문 . 안녕 . 공부 학생 . 배열 이름 관해서 궁금증 생겼 . int...\n",
       "17      반 복문 작성 ``` $(\". list a : nth - child ( 1 ) \")...\n",
       "18      벡터 레퍼런스 저장 려면 ? ` std : : vector < int &> hell...\n",
       "19      이분 검색 - low , high 값 파라미터 아 재귀 구현 # include < ...\n",
       "20      ( $$$) 사용 해서 웹 사이트 려고 . 안녕 . 웹 사이트 ( 웹 서비스 ) 위...\n",
       "21      ArrayList Vector 차이 뭔가요 ? ArrayList Vector 자료 ...\n",
       "22      표현 다익스트라 알고리즘 코드 예시 이해 서 질문 . ! [ 이미지 ] [ 1 ] ...\n",
       "23      string 비교 어떻게 ? string 비교 어떻게 ? 까지 string 비교 =...\n",
       "24      mongodb subDocument 대한 find 쿼리 어떻게 ? ``` var s...\n",
       "25      딕셔너리 값 문장 려면 어떻게 ? ``` dic = {' H ': 1 , ' e '...\n",
       "26      컴파일 관련 드려서 죄송 . http : / / www . 2 s . com / C...\n",
       "27      간단 Array 질문 ! 밑 코드 실행 이유 뭔가요 ? 원래 i 할당 된 값 어서 ...\n",
       "28      [ 크롤링 ] 결과 값 엑 셀 파일 누적 해서 저장 은데 , 어떻게 할까요 ? ? ...\n",
       "29      윈도우 프로그램 개발 , 값 전달 - Window program Making - =...\n",
       "                              ...                        \n",
       "2562    프론트 앤드 , 백 앤드 개발 시 프레임워크 선택 . .. 쉽 . node . js...\n",
       "2563    파일 저장 된 텍스트 데이터 어떻게 문자열 읽 ? 아래 소스 코드 사용 왔었 고요 ...\n",
       "2564    이거 형 변환 될까요 ? int c , f ; f =( int ) ( ( 9 . 0...\n",
       "2565             구 조체 구 조체 typedef 사용 일반 인가요 ? 아니면 사용 ? ?\n",
       "2566    postgresql postgis , 쓸 인터 널 에러 발생 . 라이브러리 불러올 ...\n",
       "2567    [ node . js ] ckeditor 이미지 올리 안녕 . 제 node . js...\n",
       "2568    패키지 컴파일 관련 질문 . https : / / github . com / nea...\n",
       "2569    문자열 마지막 문자 지우 은데 어떻게 ? ``` public String metho...\n",
       "2570    구조 체로 연산 코딩 인데 뭐 틀렸 ? ? ``` # include < stdio ...\n",
       "2571    스크립트 파일 불러오 방법 알려 ㅜㅜ ``` import pymel . core a...\n",
       "2572                       어떻게 출력 죠 ? 제 프로그램 은데 어떻게 을까요 ?\n",
       "2573    배열 원소 문자열 저장 방법 궁금 2 차원 배열 원소 스트링 저장 . 제 코드 출력...\n",
       "2574    호환 Linux & windows 구동 파일 핸들링 안녕 . 리눅스 및 윈도우 모두...\n",
       "2575    안드로이드 thread , multithreading , process 관계 및 정...\n",
       "2576    Arraylist 값 겠 Controller ``` / / @ RequestMapp...\n",
       "2577    실 행창 꺼도 계속 실행 법 ? 현재 사용 . 보통 실행 시 창 끄 면 코드 실행 ...\n",
       "2578    VM 몇 스레드 지원 ? VM 몇 스레드 지원 ? 제 조사 운영 체제 따라 ? 요인...\n",
       "2579    슬라이드 컨텐츠 높이 달라서 여백 생기 문제 ! ! 할까요 ? ? ㅠㅠ 이렇게 ! ...\n",
       "2580    for 문 질문 1 ``` hap = 0 for a in range ( 1 , 11...\n",
       "2581    single server - multi client socket 통신 모든 클라이언...\n",
       "2582    리스트 특정 아이템 인덱스 찾 `[\" hello \",\"$$$\",\" world \",\"...\n",
       "2583    윈도우 빌더 gui 랑 sms 보내 소스 어떻게 합쳐야 할지 겠 ㅠㅠ package...\n",
       "2584    위치 서비스 기능 추가 제 앱 개발 고자 . 거기 요즘 많이 쓰이 위치 서비스 기능...\n",
       "2585    fx 게시판 리스트 질문 요 . ! [ 이미지 ] [ 1 ] 이번 프로젝트 프로젝트...\n",
       "2586    최단 길 길 찾 알고리즘 대해 질문 올립니다 . 오랜 시간 붙잡 어도 전혀 진전 여...\n",
       "2587    슬라이드 질문 . 안녕 . 다름 라 버튼 클릭 면 오른쪽 왼쪽 들어갔 다 사이드 바...\n",
       "2588    메인 클래스 프로그램 전체 메인 클래스 메인 메뉴 선택 면 세 각각 기능 프로그램 ...\n",
       "2589    sparse matrix 질문 ! * sparse matrix : 0 아닌 값 가진...\n",
       "2590    models 폴더 depth 일반 migration 법 안녕하 + javascrip...\n",
       "2591    허프만 코드 사용 파일 압축 질문 . 허프만 코딩 사용 해서 파일 압축 과제 도중 ...\n",
       "Name: detokenized, Length: 2592, dtype: object"
      ]
     },
     "execution_count": 61,
     "metadata": {},
     "output_type": "execute_result"
    }
   ],
   "source": [
    "train.data"
   ]
  },
  {
   "cell_type": "code",
   "execution_count": 17,
   "metadata": {
    "scrolled": false
   },
   "outputs": [
    {
     "name": "stdout",
     "output_type": "stream",
     "text": [
      "X_train 크기: (2332,)\n",
      "y_train 크기: (2332,)\n",
      "X_test 크기: (260,)\n",
      "y_test 크기: (260,)\n"
     ]
    }
   ],
   "source": [
    "#훈련데이터의 10%는 테스트 데이터로 사용\n",
    "from sklearn.model_selection import train_test_split\n",
    "X_train, X_test, y_train, y_test = train_test_split(train.data, train.target, test_size=0.1, random_state = 0)\n",
    "print('X_train 크기:', X_train.shape)\n",
    "print('y_train 크기:', y_train.shape)\n",
    "print('X_test 크기:', X_test.shape)\n",
    "print('y_test 크기:', y_test.shape)"
   ]
  },
  {
   "cell_type": "code",
   "execution_count": 18,
   "metadata": {},
   "outputs": [],
   "source": [
    "from sklearn.feature_extraction.text import TfidfVectorizer\n",
    "from sklearn.naive_bayes import MultinomialNB\n",
    "from sklearn.model_selection import RandomizedSearchCV\n",
    "from sklearn.model_selection import GridSearchCV\n",
    "from sklearn.metrics import classification_report, confusion_matrix, accuracy_score"
   ]
  },
  {
   "cell_type": "code",
   "execution_count": 19,
   "metadata": {},
   "outputs": [],
   "source": [
    "# Parameter election\n",
    "ngram_range = (1,2)\n",
    "min_df = 10\n",
    "max_df = 1.\n",
    "max_features = 500"
   ]
  },
  {
   "cell_type": "code",
   "execution_count": 20,
   "metadata": {},
   "outputs": [
    {
     "name": "stdout",
     "output_type": "stream",
     "text": [
      "(2332, 500)\n",
      "(260, 500)\n"
     ]
    }
   ],
   "source": [
    "tfidf = TfidfVectorizer(encoding='utf-8',\n",
    "                        ngram_range=ngram_range,\n",
    "                        stop_words=None,\n",
    "                        lowercase=False,\n",
    "                        max_df=max_df,\n",
    "                        min_df=min_df,\n",
    "                        max_features=max_features,\n",
    "                        norm='l2',\n",
    "                        sublinear_tf=True)\n",
    "                        \n",
    "features_train = tfidf.fit_transform(X_train).toarray()\n",
    "labels_train = y_train\n",
    "print(features_train.shape)\n",
    "\n",
    "features_test = tfidf.transform(X_test).toarray()\n",
    "labels_test = y_test\n",
    "print(features_test.shape)"
   ]
  },
  {
   "cell_type": "code",
   "execution_count": 21,
   "metadata": {},
   "outputs": [
    {
     "data": {
      "text/plain": [
       "MultinomialNB(alpha=1.0, class_prior=None, fit_prior=True)"
      ]
     },
     "execution_count": 21,
     "metadata": {},
     "output_type": "execute_result"
    }
   ],
   "source": [
    "model = MultinomialNB()\n",
    "model.fit(features_train, labels_train)"
   ]
  },
  {
   "cell_type": "code",
   "execution_count": 22,
   "metadata": {},
   "outputs": [
    {
     "name": "stdout",
     "output_type": "stream",
     "text": [
      "트레인셋 정확도: 0.8126072041166381\n"
     ]
    }
   ],
   "source": [
    "print(\"트레인셋 정확도:\",accuracy_score(labels_train, model.predict(features_train)))"
   ]
  },
  {
   "cell_type": "code",
   "execution_count": 23,
   "metadata": {},
   "outputs": [
    {
     "name": "stdout",
     "output_type": "stream",
     "text": [
      "테스트셋 정확도: 0.7692307692307693\n"
     ]
    }
   ],
   "source": [
    "predicted = model.predict(features_test)\n",
    "print(\"테스트셋 정확도:\", accuracy_score(labels_test, predicted))"
   ]
  },
  {
   "cell_type": "code",
   "execution_count": 25,
   "metadata": {},
   "outputs": [
    {
     "name": "stdout",
     "output_type": "stream",
     "text": [
      "훈련셋 평균 정확도 0.7735890672818005\n",
      "훈련셋 평균 정확도 0.6153846153846155\n"
     ]
    }
   ],
   "source": [
    "#교차검증으로 정확한 정확도 구하기\n",
    "from sklearn.model_selection import KFold, cross_validate, cross_val_score\n",
    "kfold = KFold(n_splits = 5)\n",
    "\n",
    "scores = cross_val_score(model, features_train, labels_train, cv = kfold)\n",
    "print(\"훈련셋 평균 정확도\", scores.mean())\n",
    "\n",
    "scores1 = cross_val_score(model, features_test, labels_test, cv = kfold)\n",
    "print(\"테스트셋 평균 정확도\", scores1.mean())"
   ]
  },
  {
   "cell_type": "code",
   "execution_count": 24,
   "metadata": {
    "scrolled": true
   },
   "outputs": [
    {
     "data": {
      "text/plain": [
       "array([2, 3, 5, 5, 3, 5, 3, 3, 3, 3, 3, 3, 1, 3, 4, 4, 4, 5, 3, 3, 3, 5,\n",
       "       3, 3, 5, 5, 4, 4, 4, 4, 3, 5, 3, 5, 5, 4, 3, 3, 5, 3, 3, 3, 5, 5,\n",
       "       3, 2, 5, 3, 3, 3, 3, 3, 5, 4, 3, 4, 3, 4, 4, 3, 1, 3, 4, 4, 2, 3,\n",
       "       3, 3, 1, 3, 2, 3, 2, 4, 3, 3, 5, 5, 4, 4, 4, 3, 5, 4, 4, 4, 5, 2,\n",
       "       3, 3, 5, 3, 3, 2, 4, 3, 3, 5, 2, 5, 3, 5, 4, 3, 5, 2, 3, 4, 4, 2,\n",
       "       4, 3, 3, 4, 5, 3, 2, 3, 3, 5, 3, 3, 5, 4, 2, 3, 3, 4, 3, 3, 4, 1,\n",
       "       4, 3, 3, 3, 3, 5, 3, 4, 3, 5, 3, 3, 3, 1, 4, 4, 4, 5, 5, 3, 5, 5,\n",
       "       2, 3, 5, 4, 3, 3, 5, 4, 3, 1, 5, 3, 4, 4, 2, 5, 3, 3, 3, 3, 1, 5,\n",
       "       5, 4, 3, 3, 3, 5, 2, 1, 3, 3, 4, 5, 3, 3, 4, 5, 4, 3, 1, 5, 2, 5,\n",
       "       3, 1, 3, 5, 5, 3, 5, 3, 3, 2, 3, 3, 3, 4, 4, 5, 3, 4, 4, 3, 5, 3,\n",
       "       1, 3, 3, 2, 3, 5, 3, 5, 3, 5, 5, 5, 5, 5, 3, 3, 3, 5, 4, 3, 3, 4,\n",
       "       3, 4, 4, 3, 2, 4, 3, 4, 5, 3, 3, 3, 4, 4, 5, 3, 3, 5], dtype=int64)"
      ]
     },
     "execution_count": 24,
     "metadata": {},
     "output_type": "execute_result"
    }
   ],
   "source": [
    "predicted"
   ]
  },
  {
   "cell_type": "code",
   "execution_count": 93,
   "metadata": {},
   "outputs": [
    {
     "name": "stdout",
     "output_type": "stream",
     "text": [
      "[[ 9  2  7  1  3]\n",
      " [ 0 17  4  0  2]\n",
      " [ 2  0 86  6  4]\n",
      " [ 0  0  8 41  4]\n",
      " [ 0  0 10  7 47]]\n"
     ]
    }
   ],
   "source": [
    "from sklearn.metrics import confusion_matrix\n",
    "confusion = confusion_matrix(y_test, predicted)\n",
    "print(confusion)"
   ]
  },
  {
   "cell_type": "code",
   "execution_count": 94,
   "metadata": {},
   "outputs": [
    {
     "name": "stdout",
     "output_type": "stream",
     "text": [
      "              f1-score  precision    recall     support\n",
      "1             0.545455   0.818182  0.409091   22.000000\n",
      "2             0.809524   0.894737  0.739130   23.000000\n",
      "3             0.807512   0.747826  0.877551   98.000000\n",
      "4             0.759259   0.745455  0.773585   53.000000\n",
      "5             0.758065   0.783333  0.734375   64.000000\n",
      "accuracy      0.769231   0.769231  0.769231    0.769231\n",
      "macro avg     0.735963   0.797907  0.706746  260.000000\n",
      "weighted avg  0.763508   0.775032  0.769231  260.000000\n"
     ]
    }
   ],
   "source": [
    "from sklearn.metrics import classification_report \n",
    "report = classification_report(y_test, predicted,\n",
    "                           target_names = [1,2,3,4,5],output_dict=True)\n",
    "print(pd.DataFrame(report).transpose())"
   ]
  },
  {
   "cell_type": "code",
   "execution_count": 8,
   "metadata": {},
   "outputs": [],
   "source": [
    "#테스트 데이터에 적용\n",
    "final = pd.read_csv(r'../프로그래머스/hashcode_classification2020_test_preprocessed.csv', encoding = 'utf-8')"
   ]
  },
  {
   "cell_type": "code",
   "execution_count": 99,
   "metadata": {
    "scrolled": true
   },
   "outputs": [
    {
     "data": {
      "text/plain": [
       "0      2 차원 배열 ( 행렬 ) 구현 은데요 . . ``` def init _ spin ...\n",
       "1      uncaught referenceerror $ is not defined 에러 해결...\n",
       "2      포인터 연산 ``` int arr [ ] = { 1 , 2 , 4 , 8 , 16 ...\n",
       "3      Integer String 변환 천 단위 콤마 찍 은데 을까요 ? 35634646 ...\n",
       "4      상속 질문 요 ! ``` import sys from $$$. QtWidgets i...\n",
       "5      멀티 쓰레드 함수 srand ( time ( NULL ) ) 충분히 다른가요 ? 흔...\n",
       "6      sqlite 3 sql 문 실행 려면 어떻게 할까요 ? 예 ``` conn = sq...\n",
       "7      jQuery 키보드 엔터 눌린 건 죠 ? jQuery 키보드 엔터 눌린 건 죠 ? ...\n",
       "8      / 뒤 공백 문자 전하 제거 려면 어떻게 ? 제 건 다 뻔한 코드 라서 그런데 / ...\n",
       "9      안드로이드 UserManager . isUserAGoat ( ) 언제 사용 겁니까 ...\n",
       "10     std : : string const char * char * 바꾸 방법 ` std...\n",
       "11     API web API 신호 보내 . 안녕 . 우분투 환경 flask 파이썬 공부 ....\n",
       "12     특정 문자열 여러 검색 ``` def find ( ) : for n in range...\n",
       "13     millisecond 단위 sleep ` POSIX ` ` sleep ( x ) `...\n",
       "14     _ CrtSetBreakAlloc ( ) 메모 리릭 찾 아 집니다 ! ! _ Crt...\n",
       "15     Rails 파싱 질문 ! 안녕 ! nokogiri gem 이용 해서 크롤링 , 변수...\n",
       "16     react 오류 질문 . 이렇게 코드 짰 ``` ``` < html > < head...\n",
       "17     메모장 졌 메모장 아무것 적혀 안녕 입 문자 . ``` # include < std...\n",
       "18     sizeof ( x ++) x 증가 발생 문제 및 실행 환경 밑 코드 실행 면 ` ...\n",
       "19     질문 ~ ! [ 이미지 ] [ 1 ] ! [ 이미지 ] [ 2 ] ! [ 이미지 ]...\n",
       "20     코드 추가 부탁드려요 ㅜㅜ import java . io . BufferedRead...\n",
       "21     클래스 private 변수 ? 자바 사용 다가 Bruce Eckels _ Pytho...\n",
       "22     언어 간단 사전 프로그램 문제 발생 여 질문 . ``` public class Ma...\n",
       "23     모듈 임포 시 기존 함수 정의 된 변수 초기 화 문제 문제점 ``` NameErro...\n",
       "24     int , long 타입 크기 몇 에요 ? 타입 사이즈 대해서 은데요 컴파일러 아키...\n",
       "25     함수 이름 스트링 저장 려면 ? 스크립트 함수 이름 스트링 저장 방법 을까요 ? 밑...\n",
       "26     뷰티풀 수프 크롤링 내용 플라스크 앱 통해 카카오 옐로 아이디 ( 플러스 친구 ) ...\n",
       "27     insert 함수 실행 겠 오류 내용 : 137 줄 실행 insert 함수 문제 생...\n",
       "28     초보 인 함수 질문 드려 봅니다 . ( self 관련 해서 ) 현재 공부 인 학생 ...\n",
       "29     비주얼 스튜디오 자바 이클립스 처럼 getter setter 자동 기능 ? 비주얼 ...\n",
       "                             ...                        \n",
       "470    리스트 원소 지우 려면 어떻게 ? 원소 지우 려고 에러 떠서 ( 소스 코드 1 ) ...\n",
       "471    게임 FPS 구현 질문 ``` void Timer : : Delay ( ) { if...\n",
       "472    리스트 정렬 질문 . ``` temp = 0 a =[ 0 , 0 , 0 , 0 ] ...\n",
       "473    파일 입출력 질문 ``` # include < iostream > # include...\n",
       "474    날짜 입력 면 요일 알려 코드 연 기입 면 요일 알려 코드 짜 . 일단 ``` im...\n",
       "475    # ERROR ! `!=` 라 `=!` 묻 에요 . 심지어 밑 코드 a 값 할당 았...\n",
       "476    안드로이드 timepicker dialog 띄워서 시간 설정 면 설정 시간 int ...\n",
       "477    객체 값 NaN 겠 . 안녕 ? ``` var b = fn ( ' AACBDB ')...\n",
       "478    node . JS 세션 갱신 express , passport , mongoose ...\n",
       "479    화살표 2 연속 어떻게 해석 ? ``` const completeSale = com...\n",
       "480    클래스 된 모델 내용 페이지 입력 공부 시작 한지 얼마 초보 . 아래 모델 내용 전...\n",
       "481    if 문 문자열 비교 방법 제목 애매 한데 설명 드리 겠 . if 문 문자열 조건 ...\n",
       "482    현재 쓰레드 메인 쓰레드 인지 어떻게 체크 ? 현재 돌아가 쓰레드 메인 쓰레드 인지...\n",
       "483    for 문 인덱스 접근 ` items = [ 8 , 23 , 45 , 12 , 78...\n",
       "484    Pandas csv 파일 볼 러 UnicodeDecodeError 라는 에러 발생 ...\n",
       "485    IndentationError 오류 납니다 . ``` def quotient ( a...\n",
       "486              복사 생성자 매개변수 굳이 참조 자 이유 ? 그게 강제 약속 아서요 .\n",
       "487    웹 서버 사진 업로드 질문 ! http : / / flask - docs - kr ...\n",
       "488    따옴표 감싼 substring 보호 면서 공백 문자 스트링 분할 방법 대해 발생 문...\n",
       "489    openpyxl 범위 이동 오류 질문 안녕 기초 인 질문 인데 물어볼 곳 어서 여기...\n",
       "490    리스트 문자열 인코딩 모두 변경 해서 문자열 . utf - 8 인코딩 질문 . 크롤...\n",
       "491    CSS 구문 background - image 에러 납니다 ``` . clickx ...\n",
       "492    클래스 구조 설계 관련 질문 라이브러리 작성 . 오래 음 아직 디자인 패턴 익숙 아...\n",
       "493    HashMap 직접 초기 화 방법 뭔가요 ? ` Map < String , Stri...\n",
       "494    node . js mysql 모듈 사용 . connect , end 또는 relea...\n",
       "495    문자열 date 형식 바꾸 법 . ** String date _ s = \" 2011...\n",
       "496    if 문 질문 while ( 1 ) { printf ( \" 숫자 입력 \"); sca...\n",
       "497    도와 66 입력 면 루프 빠져 나와 프로그램 종료 은데 자꾸 디버그 에러 네 요 ;...\n",
       "498    초보 자 . 기초 인 질문 . 다음 코드 최종 uni . i 갖 값 어떻게 될까 ?...\n",
       "499    html 테이블 곱하 질문 요 ! [ 이미지 ] [ 1 ] [ 1 ] : https...\n",
       "Name: detokenized, Length: 500, dtype: object"
      ]
     },
     "execution_count": 99,
     "metadata": {},
     "output_type": "execute_result"
    }
   ],
   "source": [
    "final[\"detokenized\"]"
   ]
  },
  {
   "cell_type": "code",
   "execution_count": 100,
   "metadata": {
    "scrolled": false
   },
   "outputs": [],
   "source": [
    "features_final = tfidf.transform(final[\"detokenized\"]).toarray()"
   ]
  },
  {
   "cell_type": "code",
   "execution_count": 101,
   "metadata": {},
   "outputs": [],
   "source": [
    "predicted_1 = model.predict(features_final)"
   ]
  },
  {
   "cell_type": "code",
   "execution_count": 102,
   "metadata": {},
   "outputs": [
    {
     "data": {
      "text/plain": [
       "array([5, 4, 1, 3, 5, 5, 5, 3, 5, 3, 2, 5, 5, 5, 5, 3, 4, 1, 1, 3, 3, 5,\n",
       "       3, 5, 1, 5, 5, 2, 5, 3, 4, 3, 5, 4, 3, 5, 1, 4, 4, 5, 1, 4, 1, 3,\n",
       "       4, 1, 3, 2, 4, 3, 4, 4, 1, 1, 1, 2, 5, 5, 3, 5, 3, 2, 5, 3, 2, 5,\n",
       "       3, 5, 3, 3, 3, 5, 3, 4, 4, 4, 3, 5, 2, 3, 4, 1, 5, 4, 4, 4, 4, 5,\n",
       "       2, 5, 3, 1, 3, 2, 1, 1, 1, 5, 5, 4, 3, 3, 5, 1, 2, 1, 4, 3, 1, 4,\n",
       "       3, 2, 4, 3, 3, 5, 4, 4, 5, 2, 2, 2, 2, 1, 4, 3, 5, 1, 2, 5, 2, 2,\n",
       "       2, 5, 4, 3, 5, 3, 3, 3, 5, 5, 3, 5, 3, 3, 3, 4, 3, 5, 4, 3, 1, 3,\n",
       "       3, 5, 2, 4, 3, 4, 3, 3, 5, 4, 1, 3, 3, 4, 3, 3, 1, 3, 5, 5, 3, 5,\n",
       "       4, 1, 4, 4, 3, 5, 3, 5, 2, 4, 5, 1, 3, 3, 1, 4, 5, 3, 2, 4, 4, 4,\n",
       "       1, 4, 2, 3, 3, 5, 3, 2, 2, 4, 3, 4, 1, 1, 2, 3, 1, 5, 1, 3, 3, 4,\n",
       "       5, 3, 4, 2, 3, 1, 5, 5, 3, 4, 5, 3, 4, 1, 2, 4, 5, 1, 5, 2, 4, 1,\n",
       "       5, 2, 1, 4, 4, 1, 1, 2, 2, 3, 1, 2, 4, 4, 3, 5, 3, 2, 5, 5, 4, 1,\n",
       "       5, 1, 3, 3, 3, 3, 3, 5, 3, 4, 4, 1, 2, 4, 1, 1, 2, 5, 1, 1, 5, 1,\n",
       "       1, 3, 5, 3, 1, 2, 5, 1, 4, 4, 3, 3, 5, 3, 1, 5, 3, 3, 3, 5, 4, 2,\n",
       "       4, 3, 5, 3, 2, 5, 3, 3, 3, 5, 3, 3, 4, 3, 2, 3, 3, 1, 3, 1, 5, 4,\n",
       "       1, 3, 3, 3, 5, 2, 3, 3, 2, 5, 3, 5, 5, 2, 5, 1, 2, 3, 4, 4, 1, 3,\n",
       "       5, 5, 1, 3, 3, 5, 4, 5, 3, 4, 3, 3, 4, 1, 4, 1, 4, 2, 5, 2, 5, 1,\n",
       "       4, 5, 1, 4, 4, 3, 5, 3, 5, 4, 3, 5, 3, 1, 4, 2, 4, 1, 4, 5, 5, 3,\n",
       "       5, 5, 1, 1, 3, 5, 1, 3, 5, 4, 5, 5, 3, 4, 1, 5, 5, 4, 3, 4, 3, 2,\n",
       "       1, 2, 4, 3, 3, 3, 3, 3, 3, 3, 2, 3, 5, 2, 4, 3, 4, 5, 2, 4, 2, 5,\n",
       "       3, 5, 3, 2, 4, 4, 5, 2, 3, 1, 4, 3, 4, 4, 1, 3, 4, 3, 1, 3, 1, 4,\n",
       "       3, 3, 5, 5, 3, 2, 1, 1, 5, 3, 5, 2, 5, 2, 3, 4, 4, 2, 5, 3, 3, 5,\n",
       "       5, 5, 3, 5, 3, 5, 5, 5, 4, 3, 4, 3, 1, 1, 3, 4], dtype=int64)"
      ]
     },
     "execution_count": 102,
     "metadata": {},
     "output_type": "execute_result"
    }
   ],
   "source": [
    "predicted_1"
   ]
  },
  {
   "cell_type": "code",
   "execution_count": 103,
   "metadata": {
    "scrolled": true
   },
   "outputs": [],
   "source": [
    "df = pd.DataFrame(predicted_1, columns = ['label'])"
   ]
  },
  {
   "cell_type": "code",
   "execution_count": 104,
   "metadata": {},
   "outputs": [],
   "source": [
    "df.to_csv('../프로그래머스/hashcode_classification2020_submission_1-3.csv', header = True, index = False)"
   ]
  },
  {
   "cell_type": "code",
   "execution_count": null,
   "metadata": {},
   "outputs": [],
   "source": [
    "#공개점수 76"
   ]
  }
 ],
 "metadata": {
  "kernelspec": {
   "display_name": "Python 3",
   "language": "python",
   "name": "python3"
  },
  "language_info": {
   "codemirror_mode": {
    "name": "ipython",
    "version": 3
   },
   "file_extension": ".py",
   "mimetype": "text/x-python",
   "name": "python",
   "nbconvert_exporter": "python",
   "pygments_lexer": "ipython3",
   "version": "3.7.3"
  }
 },
 "nbformat": 4,
 "nbformat_minor": 2
}
